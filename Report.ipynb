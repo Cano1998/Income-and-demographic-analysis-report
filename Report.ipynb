{
 "cells": [
  {
   "cell_type": "code",
   "execution_count": 1,
   "metadata": {},
   "outputs": [],
   "source": [
    "# Import pandas\n",
    "import pandas as pd "
   ]
  },
  {
   "cell_type": "code",
   "execution_count": 2,
   "metadata": {},
   "outputs": [],
   "source": [
    "# Create a DataFrame with balance.txt\n",
    "df = pd.read_csv('balance.txt', sep=' ')"
   ]
  },
  {
   "cell_type": "markdown",
   "metadata": {},
   "source": [
    "Write the code needed to produce a report that provides the following information:\n",
    "* Compare the average income based on ethnicity.\n",
    "* On average, do married or single people have a higher balance?\n",
    "* What is the highest income in our dataset?\n",
    "* What is the lowest income in our dataset?\n",
    "* How many cards do we have recorded in our dataset? (Hint: use `sum()`)\n",
    "* How many females do we have information for vs how many males? (Hint: use `count()` for a list of all methods for computation of descriptive stats, explore the [pandas documentation](https://pandas.pydata.org/pandas-docs/stable/reference/frame.html#computations-descriptive-stats))."
   ]
  },
  {
   "cell_type": "code",
   "execution_count": 3,
   "metadata": {},
   "outputs": [
    {
     "name": "stdout",
     "output_type": "stream",
     "text": [
      "The average income of Caucasians is 44.521944723618084\n",
      "The average income of Asians is 44.18783333333334\n",
      "The average income of African Americans is 47.68210101010099\n"
     ]
    }
   ],
   "source": [
    "# Compare the average income based on ethnicity.\n",
    "print('The average income of Caucasians is', df[df.Ethnicity == 'Caucasian'].loc[:, 'Income'].mean())\n",
    "print('The average income of Asians is', df[df.Ethnicity == 'Asian'].loc[:, 'Income'].mean())\n",
    "print('The average income of African Americans is', df[df.Ethnicity == 'African American'].loc[:, 'Income'].mean())"
   ]
  },
  {
   "cell_type": "code",
   "execution_count": 4,
   "metadata": {},
   "outputs": [
    {
     "name": "stdout",
     "output_type": "stream",
     "text": [
      "Average balnce of married people is 13.388473477498913\n",
      "Average balance of singles people is 13.493509015134242\n",
      "On average, single people have a higer balance than married people.\n"
     ]
    }
   ],
   "source": [
    "# On average, do married or single people have a higher balance?\n",
    "print(\"Average balnce of married people is\",df[df.Married == 'Yes'].loc[:, 'Balance'].mean())\n",
    "print(\"Average balance of singles people is\",df[df.Married == 'No'].loc[:, 'Balance'].mean())\n",
    "print(\"On average, single people have a higer balance than married people.\")"
   ]
  },
  {
   "cell_type": "code",
   "execution_count": 5,
   "metadata": {},
   "outputs": [
    {
     "name": "stdout",
     "output_type": "stream",
     "text": [
      "The highest income in our dataset is 186.634\n"
     ]
    }
   ],
   "source": [
    "# What is the highest income in our dataset?\n",
    "print('The highest income in our dataset is', df['Income'].max())"
   ]
  },
  {
   "cell_type": "code",
   "execution_count": 6,
   "metadata": {},
   "outputs": [
    {
     "name": "stdout",
     "output_type": "stream",
     "text": [
      "The lowest income in our dtaset is 10.354\n"
     ]
    }
   ],
   "source": [
    "# What is the lowest income in our dataset?\n",
    "print('The lowest income in our dtaset is', df['Income'].min())"
   ]
  },
  {
   "cell_type": "code",
   "execution_count": 7,
   "metadata": {},
   "outputs": [
    {
     "name": "stdout",
     "output_type": "stream",
     "text": [
      "The total of cards that we hace recorded in our dataset is 1183\n"
     ]
    }
   ],
   "source": [
    "# How many cards do we have recorded in our dataset?\n",
    "print('The total of cards that we hace recorded in our dataset is', df['Cards'].sum())"
   ]
  },
  {
   "cell_type": "code",
   "execution_count": 27,
   "metadata": {},
   "outputs": [
    {
     "name": "stdout",
     "output_type": "stream",
     "text": [
      "Information for females vs information for males:\n",
      "\n",
      " Gender\n",
      "Female    207\n",
      "Male      193\n",
      "Name: Gender, dtype: int64\n"
     ]
    }
   ],
   "source": [
    "# How many females do we have information for vs how many males?\n",
    "print('Information for females vs information for males:\\n\\n', df.groupby('Gender')['Gender'].count())"
   ]
  },
  {
   "cell_type": "code",
   "execution_count": null,
   "metadata": {},
   "outputs": [],
   "source": []
  }
 ],
 "metadata": {
  "kernelspec": {
   "display_name": "Python 3 (ipykernel)",
   "language": "python",
   "name": "python3"
  },
  "language_info": {
   "codemirror_mode": {
    "name": "ipython",
    "version": 3
   },
   "file_extension": ".py",
   "mimetype": "text/x-python",
   "name": "python",
   "nbconvert_exporter": "python",
   "pygments_lexer": "ipython3",
   "version": "3.12.2"
  }
 },
 "nbformat": 4,
 "nbformat_minor": 4
}
